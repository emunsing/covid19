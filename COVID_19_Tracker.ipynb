{
 "cells": [
  {
   "cell_type": "code",
   "execution_count": null,
   "metadata": {},
   "outputs": [],
   "source": [
    "import pandas as pd \n",
    "import numpy as np\n",
    "from matplotlib import colors as mcolors\n",
    "colors = mcolors.CSS4_COLORS\n",
    "import seaborn as sns\n",
    "import requests\n",
    "\n",
    "import cufflinks as cf\n",
    "cf.set_config_file(offline=True, world_readable=False, theme='ggplot')\n",
    "\n",
    "import sys, datetime, time, pickle\n",
    "from IPython.core.display import display, HTML, clear_output\n",
    "display(HTML(\"<style>.container { width:100% !important; }</style>\"))\n",
    "\n",
    "import matplotlib\n",
    "import matplotlib.pyplot as plt\n",
    "%matplotlib inline\n",
    "plt.rcParams['figure.figsize'] = (15.0, 7.0)"
   ]
  },
  {
   "cell_type": "code",
   "execution_count": null,
   "metadata": {},
   "outputs": [],
   "source": [
    "def set_y_axis_thousands_delim(ax):\n",
    "    \"\"\"Accept a Matplotlib Axes object, and formats the y-ticks to be integers with comma separators, e.g.\n",
    "    ax = df.plot()\n",
    "    set_y_axis_thousands_delim(ax)\n",
    "    \"\"\"\n",
    "    ax.get_yaxis().set_major_formatter(matplotlib.ticker.FuncFormatter(lambda y, p: format(int(y), ',')))\n"
   ]
  },
  {
   "cell_type": "markdown",
   "metadata": {},
   "source": [
    "# Global data\n",
    "**Data downloaded from here:**\n",
    "https://www.ecdc.europa.eu/en/publications-data/download-todays-data-geographic-distribution-covid-19-cases-worldwide"
   ]
  },
  {
   "cell_type": "code",
   "execution_count": null,
   "metadata": {},
   "outputs": [],
   "source": []
  },
  {
   "cell_type": "code",
   "execution_count": null,
   "metadata": {},
   "outputs": [],
   "source": [
    "# # V1: This was only valid 3/16\n",
    "# df = pd.read_excel('~/Downloads/COVID-19-geographic-disbtribution-worldwide-2020-03-16.xls')\n",
    "# col_mapping = {'DateRep':'Date', 'CountryExp':'Country', \"NewConfCases\":\"Cases\", \"NewDeaths\":\"Deaths\"}\n",
    "\n",
    "# # V2: There was some inconsistency in file format between xls and xlsx for a few days\n",
    "# today = datetime.date.today()\n",
    "# # today = datetime.date(2020,3,19)\n",
    "# try:\n",
    "#     df = pd.read_excel('~/Downloads/COVID-19-geographic-disbtribution-worldwide-%s.xlsx'%today.strftime('%Y-%m-%d'))\n",
    "# except IOError:\n",
    "#     df = pd.read_excel('~/Downloads/COVID-19-geographic-disbtribution-worldwide-%s.xls'%today.strftime('%Y-%m-%d'))\n",
    "# col_mapping = {'DateRep':'Date', 'Countries and territories':'Country'}"
   ]
  },
  {
   "cell_type": "code",
   "execution_count": null,
   "metadata": {},
   "outputs": [],
   "source": [
    "# V3: ECDC standard request process\n",
    "from urllib2 import HTTPError\n",
    "\n",
    "testdate = datetime.date.today()\n",
    "url = \"https://www.ecdc.europa.eu/sites/default/files/documents/COVID-19-geographic-disbtribution-worldwide-{:}.xlsx\"\n",
    "\n",
    "try:\n",
    "    df = pd.read_excel(url.format(testdate.strftime('%Y-%m-%d')))\n",
    "    print(\"Successfully loaded data for today, %s\"%testdate)\n",
    "except HTTPError:\n",
    "    testdate -= datetime.timedelta(days=1)\n",
    "    df = pd.read_excel(url.format(testdate.strftime('%Y-%m-%d')))\n",
    "    print(\"Today's data not yet available, using data for %s\"%testdate)\n",
    "\n",
    "col_mapping = {'DateRep':'Date', 'Countries and territories':'Country'}"
   ]
  },
  {
   "cell_type": "code",
   "execution_count": null,
   "metadata": {},
   "outputs": [],
   "source": [
    "df.columns = df.columns.map(lambda x: col_mapping.get(x,x))\n",
    "df = df.set_index(['Country', 'Date'], drop=True).sort_index()\n",
    "df = df[['Cases', 'Deaths']]\n",
    "df.head()"
   ]
  },
  {
   "cell_type": "code",
   "execution_count": null,
   "metadata": {},
   "outputs": [],
   "source": [
    "global_cases = df['Cases'].groupby('Date').sum().cumsum()\n",
    "global_deaths = df['Deaths'].groupby('Date').sum().cumsum()\n",
    "\n",
    "china_cases = df.loc[('China',slice(None)),:]['Cases'].reset_index(level=0, drop=True).cumsum()\n",
    "china_deaths = df.loc[('China',slice(None)),:]['Deaths'].reset_index(level=0, drop=True).cumsum()"
   ]
  },
  {
   "cell_type": "code",
   "execution_count": null,
   "metadata": {},
   "outputs": [],
   "source": [
    "def plot_growth(s, a=5, ax=None, ylims=(0,2.0)):\n",
    "    realized_color='indianred'\n",
    "    mean_color = 'cornflowerblue'\n",
    "\n",
    "    a = 5\n",
    "    g = s.diff() / s.diff().shift(1)\n",
    "    g.plot(color=colors[realized_color], ax=ax)\n",
    "    ax.axhline(1.0, color='k', linewidth=2)\n",
    "    ax.axhline(1.25,color='k', linewidth=1, linestyle=':')\n",
    "    ax.set_ylim(ylims)\n",
    "    m = g.rolling(a).mean()\n",
    "    m.plot(color=mean_color, linestyle='--', ax=ax)\n",
    "\n",
    "    err = g.rolling(a).apply(lambda x: np.std([np.random.choice(x, size=a, replace=True) for i in range(100)]))\n",
    "\n",
    "    ax.fill_between(m.index, m-err, m+err, color=mean_color, alpha=0.2)\n",
    "    ax.set_ylabel('Growth Rate')"
   ]
  },
  {
   "cell_type": "markdown",
   "metadata": {},
   "source": [
    "# Global Caseload"
   ]
  },
  {
   "cell_type": "code",
   "execution_count": null,
   "metadata": {},
   "outputs": [],
   "source": [
    "print(\"Current global cases: {:,.0f}\".format(global_cases.iloc[-1]))\n",
    "print(\"Changes in global cases in last 3 days:\")\n",
    "global_cases.diff().tail(3)"
   ]
  },
  {
   "cell_type": "code",
   "execution_count": null,
   "metadata": {},
   "outputs": [],
   "source": [
    "fig, ax = plt.subplots(2,1, sharex=True, figsize=(15,10))\n",
    "\n",
    "global_cases.plot(label='Global', ax=ax[0])\n",
    "china_cases.plot(label='China', ax=ax[0])\n",
    "set_y_axis_thousands_delim(ax[0])\n",
    "ax[0].legend()\n",
    "ax[0].set_title('Total Global Cases')\n",
    "ax[0].set_ylabel('Total cases')\n",
    "\n",
    "plot_growth(global_cases, ax=ax[1])"
   ]
  },
  {
   "cell_type": "markdown",
   "metadata": {},
   "source": [
    "## Global Deaths"
   ]
  },
  {
   "cell_type": "code",
   "execution_count": null,
   "metadata": {},
   "outputs": [],
   "source": [
    "fig, ax = plt.subplots(2,1, sharex=True, figsize=(15,10))\n",
    "\n",
    "global_deaths.plot(label='Global', ax=ax[0])\n",
    "china_deaths.plot(label='China', ax=ax[0])\n",
    "set_y_axis_thousands_delim(ax[0])\n",
    "ax[0].legend()\n",
    "\n",
    "plot_growth(global_deaths, ax=ax[1])"
   ]
  },
  {
   "cell_type": "markdown",
   "metadata": {},
   "source": [
    "# World excluding China (Rest of World or RoW)"
   ]
  },
  {
   "cell_type": "markdown",
   "metadata": {},
   "source": [
    "## RoW cases"
   ]
  },
  {
   "cell_type": "code",
   "execution_count": null,
   "metadata": {},
   "outputs": [],
   "source": [
    "row_cases = (global_cases - china_cases)\n",
    "\n",
    "fig, ax = plt.subplots(2,1, sharex=True, figsize=(15,10))\n",
    "\n",
    "row_cases.plot(ax=ax[0])\n",
    "set_y_axis_thousands_delim(ax[0])\n",
    "ax[0].set_ylabel('Total cases, RoW')\n",
    "ax2 = row_cases.diff().plot(ax=ax[0],secondary_y=True, linestyle='--')\n",
    "set_y_axis_thousands_delim(ax2)\n",
    "ax2.set_ylabel('New case rate')\n",
    "\n",
    "plot_growth(row_cases, ax=ax[1])"
   ]
  },
  {
   "cell_type": "markdown",
   "metadata": {},
   "source": [
    "## RoW Deaths"
   ]
  },
  {
   "cell_type": "code",
   "execution_count": null,
   "metadata": {},
   "outputs": [],
   "source": [
    "row_deaths = global_deaths - china_deaths\n",
    "\n",
    "fig, ax = plt.subplots(2,1, sharex=True, figsize=(15,10))\n",
    "\n",
    "row_deaths.plot(ax=ax[0])\n",
    "set_y_axis_thousands_delim(ax[0])\n",
    "ax[0].set_ylabel('Total Deaths, RoW')\n",
    "ax2 = row_deaths.diff().plot(ax=ax[0],secondary_y=True, linestyle='--')\n",
    "set_y_axis_thousands_delim(ax2)\n",
    "ax2.set_ylabel('New Death rate')\n",
    "\n",
    "plot_growth(row_deaths, ax=ax[1])"
   ]
  },
  {
   "cell_type": "markdown",
   "metadata": {},
   "source": [
    "# Country-specific stats"
   ]
  },
  {
   "cell_type": "code",
   "execution_count": null,
   "metadata": {},
   "outputs": [],
   "source": [
    "by_country = df.groupby(level=0).sum()\n",
    "by_country.loc['Global',:] = by_country.sum()\n",
    "\n",
    "n_cutoff = 10\n",
    "\n",
    "for f in ['Cases', 'Deaths']:\n",
    "    print(f)\n",
    "    new_cases = pd.concat([by_country[f], by_country[f] / by_country.loc['Global', f] * 100], axis=1, keys=[f, 'Portion'])\n",
    "    display(new_cases.sort_values(by=f, ascending=False).iloc[:n_cutoff].style.format({f:'{:,.0f}', 'Portion':'{:.2f}%'}))\n",
    "\n",
    "    \n",
    "print(\"Mortality\")    \n",
    "death_cutoff = 10\n",
    "mortality = by_country[by_country['Deaths'] > death_cutoff]\n",
    "mortality['Mortality Rate'] = mortality['Deaths'] / mortality['Cases'] * 100\n",
    "mortality = mortality[['Mortality Rate', 'Deaths', 'Cases']]\n",
    "mortality = mortality.sort_values(by='Mortality Rate', ascending=False)\n",
    "mortality.style.format({'Mortality Rate':'{:.1f}%', 'Deaths':'{:,.0f}', 'Cases':'{:,.0f}'})"
   ]
  },
  {
   "cell_type": "code",
   "execution_count": null,
   "metadata": {},
   "outputs": [],
   "source": [
    "df.loc[('Austria',slice(None)),:].tail()"
   ]
  },
  {
   "cell_type": "code",
   "execution_count": null,
   "metadata": {
    "scrolled": false
   },
   "outputs": [],
   "source": [
    "field = 'Cases'\n",
    "\n",
    "countries_for_detail = df.groupby(level=0).sum().sort_values(by=field, ascending=False).index[:n_cutoff]\n",
    "\n",
    "# countries_for_detail = ['Indonesia']\n",
    "\n",
    "for c in countries_for_detail:\n",
    "    s = df.loc[(c, slice(None)),:].reset_index(level=0, drop=True)\n",
    "    s_cases = s[field]\n",
    "    sustained_start_date = s_cases[(s_cases.diff() * s_cases.diff().shift(-1))>0].index[0]\n",
    "\n",
    "    fig, ax = plt.subplots(2,1, sharex=True, figsize=(15,10))\n",
    "\n",
    "    s_cases.cumsum()[sustained_start_date:].plot(ax=ax[0])\n",
    "    set_y_axis_thousands_delim(ax[0])\n",
    "    ax[0].set_ylabel('Total number of '+field)\n",
    "    ax[0].set_title('{:}:  {:,.0f} cases,  {:,.0f} deaths,  sustained reporting started {:}  ({:.0f} days)'.format(c,\n",
    "                    s.sum()['Cases'], s.sum()['Deaths'], sustained_start_date.strftime('%m-%d'), (datetime.datetime.now() - sustained_start_date).days))\n",
    "    ax2 = s_cases[sustained_start_date:].plot(linestyle='--',ax=ax[0], secondary_y=True)\n",
    "    ax2.set_ylabel('New Cases')\n",
    "\n",
    "    plot_growth(s_cases[sustained_start_date:].cumsum(), ax=ax[1])\n",
    "    plt.show()\n",
    "    plt.close()"
   ]
  },
  {
   "cell_type": "markdown",
   "metadata": {},
   "source": [
    "# US Data"
   ]
  },
  {
   "cell_type": "code",
   "execution_count": null,
   "metadata": {},
   "outputs": [],
   "source": [
    "tmp = requests.get('https://covidtracking.com/api/states/daily')\n",
    "us_data = pd.DataFrame(json.loads(tmp.content))\n",
    "\n",
    "field_mapping = {'date':'Date','death':'Deaths','positive':'Cases','state':'State', 'total':'Total Tested'}\n",
    "us_data.columns = us_data.columns.map(lambda x: field_mapping.get(x,x))\n",
    "\n",
    "us_data['Date'] = pd.to_datetime(us_data['Date'],format='%Y%m%d')\n",
    "us_data = us_data.set_index(['State','Date'], drop=True).sort_index()"
   ]
  },
  {
   "cell_type": "code",
   "execution_count": null,
   "metadata": {},
   "outputs": [],
   "source": [
    "us_data.groupby('Date').sum()"
   ]
  },
  {
   "cell_type": "code",
   "execution_count": null,
   "metadata": {},
   "outputs": [],
   "source": [
    "# Compare WHO and CDC numbers. US CDC numbers are released later, which is likely the explanation for the difference. \n",
    "us_total = us_data.groupby('Date').sum()\n",
    "\n",
    "s_cases = df.loc[('United_States_of_America', slice(None)),:].reset_index(level=0, drop=True)\n",
    "\n",
    "f = 'Cases'\n",
    "us_case_totals = pd.concat([us_total[f], s_cases[f].cumsum()], axis=1).dropna()\n",
    "us_case_totals.columns = ['US CDC', 'WHO/EUCDC']\n",
    "us_case_totals.iplot()"
   ]
  },
  {
   "cell_type": "code",
   "execution_count": null,
   "metadata": {},
   "outputs": [],
   "source": [
    "(us_total[f].diff() / us_total[f].diff().shift(1)).iplot(dimensions=(600,400))"
   ]
  },
  {
   "cell_type": "code",
   "execution_count": null,
   "metadata": {},
   "outputs": [],
   "source": [
    "testing = us_total.diff()\n",
    "ax = testing[['Cases','Total Tested']].plot()\n",
    "set_y_axis_thousands_delim(ax)\n",
    "handles, labels = ax.get_legend_handles_labels()\n",
    "handleDict = dict(zip(labels,handles))\n",
    "\n",
    "ax2 = (testing['Cases']/testing['Total Tested']).plot(label='Portion positive on day', secondary_y=True, linestyle='--')\n",
    "handles, labels = ax2.get_legend_handles_labels()\n",
    "handleDict.update(zip(labels,handles))\n",
    "\n",
    "ax.legend(handleDict.values(), handleDict.keys(), loc='upper left')\n",
    "\n",
    "plt.title(\"Portion of day's tests positive\")"
   ]
  },
  {
   "cell_type": "code",
   "execution_count": null,
   "metadata": {},
   "outputs": [],
   "source": [
    "biggest_states = us_data.groupby('State').last()[['Cases','Deaths']].sort_values('Cases', ascending=False).iloc[0:n_cutoff,:]\n",
    "biggest_states"
   ]
  },
  {
   "cell_type": "code",
   "execution_count": null,
   "metadata": {
    "scrolled": false
   },
   "outputs": [],
   "source": [
    "states_for_detail = biggest_states.index\n",
    "\n",
    "for c in states_for_detail:\n",
    "    s = us_data.loc[(c, slice(None)),:].reset_index(level=0, drop=True)\n",
    "    s_cases = s['Cases']\n",
    "\n",
    "    fig, ax = plt.subplots(2,1, sharex=True, figsize=(15,10))\n",
    "\n",
    "    s_cases.plot(ax=ax[0])\n",
    "    set_y_axis_thousands_delim(ax[0])\n",
    "    ax[0].set_ylabel('Total number of cases')\n",
    "    ax[0].set_title('{:}:  {:,.0f} cases,  {:,.0f} deaths'.format(c, s['Cases'][-1], s['Deaths'][-1]))\n",
    "    ax2 = s_cases.diff().plot(linestyle='--',ax=ax[0], secondary_y=True)\n",
    "    ax2.set_ylabel('New Cases')\n",
    "\n",
    "    plot_growth(s_cases.fillna(0.0), ax=ax[1], ylims=(0,3.0))\n",
    "    plt.show()\n",
    "    plt.close()"
   ]
  }
 ],
 "metadata": {
  "kernelspec": {
   "display_name": "Python [conda env:statarbdeps]",
   "language": "python",
   "name": "conda-env-statarbdeps-py"
  },
  "language_info": {
   "codemirror_mode": {
    "name": "ipython",
    "version": 2
   },
   "file_extension": ".py",
   "mimetype": "text/x-python",
   "name": "python",
   "nbconvert_exporter": "python",
   "pygments_lexer": "ipython2",
   "version": "2.7.15"
  }
 },
 "nbformat": 4,
 "nbformat_minor": 2
}
